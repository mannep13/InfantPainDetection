{
  "cells": [
    {
      "cell_type": "markdown",
      "metadata": {
        "id": "5piEaZz0pxId"
      },
      "source": [
        "# Import data functions"
      ]
    },
    {
      "cell_type": "code",
      "source": [
        "pip install tensorflow-addons"
      ],
      "metadata": {
        "id": "lVNx8ANXrHT5",
        "colab": {
          "base_uri": "https://localhost:8080/"
        },
        "outputId": "051caf5e-5e0d-47d5-8809-f0e976eebec2"
      },
      "execution_count": null,
      "outputs": [
        {
          "output_type": "stream",
          "name": "stdout",
          "text": [
            "Looking in indexes: https://pypi.org/simple, https://us-python.pkg.dev/colab-wheels/public/simple/\n",
            "Collecting tensorflow-addons\n",
            "  Downloading tensorflow_addons-0.20.0-cp310-cp310-manylinux_2_17_x86_64.manylinux2014_x86_64.whl (591 kB)\n",
            "\u001b[2K     \u001b[90m━━━━━━━━━━━━━━━━━━━━━━━━━━━━━━━━━━━━━━━\u001b[0m \u001b[32m591.0/591.0 kB\u001b[0m \u001b[31m9.4 MB/s\u001b[0m eta \u001b[36m0:00:00\u001b[0m\n",
            "\u001b[?25hRequirement already satisfied: packaging in /usr/local/lib/python3.10/dist-packages (from tensorflow-addons) (23.1)\n",
            "Collecting typeguard<3.0.0,>=2.7\n",
            "  Downloading typeguard-2.13.3-py3-none-any.whl (17 kB)\n",
            "Installing collected packages: typeguard, tensorflow-addons\n",
            "Successfully installed tensorflow-addons-0.20.0 typeguard-2.13.3\n"
          ]
        }
      ]
    },
    {
      "cell_type": "code",
      "source": [
        "import tensorflow as tf\n"
      ],
      "metadata": {
        "id": "qdju714ztvZN"
      },
      "execution_count": null,
      "outputs": []
    },
    {
      "cell_type": "code",
      "execution_count": null,
      "metadata": {
        "id": "-iJFWpoKpxIg",
        "colab": {
          "base_uri": "https://localhost:8080/"
        },
        "outputId": "455df250-d33e-4ed4-c82e-5aadbb802a27"
      },
      "outputs": [
        {
          "output_type": "stream",
          "name": "stderr",
          "text": [
            "/usr/local/lib/python3.10/dist-packages/tensorflow_addons/utils/tfa_eol_msg.py:23: UserWarning: \n",
            "\n",
            "TensorFlow Addons (TFA) has ended development and introduction of new features.\n",
            "TFA has entered a minimal maintenance and release mode until a planned end of life in May 2024.\n",
            "Please modify downstream libraries to take dependencies from other repositories in our TensorFlow community (e.g. Keras, Keras-CV, and Keras-NLP). \n",
            "\n",
            "For more information see: https://github.com/tensorflow/addons/issues/2807 \n",
            "\n",
            "  warnings.warn(\n"
          ]
        }
      ],
      "source": [
        "import glob\n",
        "import pandas as pd\n",
        "import numpy as np\n",
        "import matplotlib.pyplot as plt\n",
        "import tensorflow_addons as tfa\n",
        "from sklearn.preprocessing import (\n",
        "    StandardScaler,\n",
        ")"
      ]
    },
    {
      "cell_type": "code",
      "source": [
        "from google.colab import drive\n",
        "drive.mount('/content/drive')"
      ],
      "metadata": {
        "colab": {
          "base_uri": "https://localhost:8080/"
        },
        "id": "TDSOAvsYp3v0",
        "outputId": "fc43835b-2683-4b78-9b50-1fca43e5f51d"
      },
      "execution_count": null,
      "outputs": [
        {
          "output_type": "stream",
          "name": "stdout",
          "text": [
            "Mounted at /content/drive\n"
          ]
        }
      ]
    },
    {
      "cell_type": "code",
      "execution_count": null,
      "metadata": {
        "id": "z51K8mXMpxIh"
      },
      "outputs": [],
      "source": [
        "def load_data_files(data_dir='/content/drive/MyDrive/training-validation'):\n",
        "    source_files = glob.glob(pathname=data_dir + '/**/*.csv')\n",
        "    return source_files\n",
        "\n",
        "def create_dataset(source_files):\n",
        "    dataset_csv = pd.concat([\n",
        "        pd.read_csv(file,header=None,names=['Id','Heart_rate','Respiratory_rate','Oxygen_saturation','Baby_status'])\n",
        "        for file in source_files\n",
        "    ],ignore_index=True)\n",
        "    return dataset_csv\n",
        "\n",
        "def files_preprocessing(data_dir='training-validation'):\n",
        "    source_files = glob.glob(pathname=data_dir + '/**/*.csv')\n",
        "    for index,file in enumerate(source_files):\n",
        "        if index == 0:\n",
        "            df = pd.read_csv(file,header=None,names=['Id','Heart_rate','Respiratory_rate','Oxygen_saturation','Baby_status'])\n",
        "            break\n",
        "    return df"
      ]
    },
    {
      "cell_type": "markdown",
      "metadata": {
        "id": "H8RYlpW2pxIh"
      },
      "source": [
        "# Data preprocessing"
      ]
    },
    {
      "cell_type": "code",
      "execution_count": null,
      "metadata": {
        "id": "l4Ptg_HgpxIh"
      },
      "outputs": [],
      "source": [
        "def transform_dataset(dataset):\n",
        "    # remove the first col in place\n",
        "    dataset = dataset.drop('Id', inplace=False, axis=1)\n",
        "    # remove samples without target value\n",
        "    dataset = dataset[(dataset['Baby_status'] == 0) | (dataset['Baby_status'] == 1) | (dataset['Baby_status'] == 2)]\n",
        "    # data clean\n",
        "    dataset = dataset.replace('--1',-1)\n",
        "    return dataset\n",
        "    \n",
        "\n",
        "def standard_scaler(dataset):\n",
        "    scaler = StandardScaler()\n",
        "    dataset = dataset.reshape(-1,3)\n",
        "    scaled_dataset = scaler.fit_transform(dataset)\n",
        "    return (scaled_dataset.reshape(-1,31,3),scaler)\n",
        "\n",
        "\n",
        "def csv_file_processing(df):\n",
        "    df = transform_dataset(dataset=df)\n",
        "    X = df[['Heart_rate','Respiratory_rate','Oxygen_saturation']].to_numpy()\n",
        "    y = df['Baby_status'].to_numpy()\n",
        "    if X.shape[0] == 31:\n",
        "        return (X.reshape(1,31,-1),y.reshape(1,-1))                                            \n",
        "\n",
        "\n",
        "def build_dataset(source_files):\n",
        "    X = np.empty(shape=(1,31,3))\n",
        "    Y = np.empty(shape=(1,1))\n",
        "    for index,file in enumerate(source_files):\n",
        "        df = pd.read_csv(file,header=None,names=['Id','Heart_rate','Respiratory_rate','Oxygen_saturation','Baby_status'])\n",
        "        data = csv_file_processing(df)\n",
        "        if data:\n",
        "            x = data[0]\n",
        "            y = data[1]\n",
        "            if x.shape[2] == 3:\n",
        "                X = np.vstack((X,x))\n",
        "                Y = np.vstack((Y,y[0,-1])) # the target value if the 31th row\n",
        "                # print()\n",
        "    return (np.delete(X, 0,axis=0),np.delete(Y, 0,axis=0))"
      ]
    },
    {
      "cell_type": "markdown",
      "metadata": {
        "id": "4OOQPj9npxIi"
      },
      "source": [
        "# Utils functions for plotting charts"
      ]
    },
    {
      "cell_type": "code",
      "execution_count": null,
      "metadata": {
        "id": "MabfMD-TpxIi"
      },
      "outputs": [],
      "source": [
        "\n",
        "def plot_training_results(model_history,epochs,fig_name=None):\n",
        "    x = np.linspace(start=1,stop=epochs,num=epochs)\n",
        "    plt.figure(figsize=(13,13))\n",
        "    plt.plot(x,\n",
        "             model_history.get('loss'),\n",
        "             color='red',\n",
        "             marker='o',\n",
        "             linestyle='dashed',\n",
        "             linewidth=2,\n",
        "             markersize=9,\n",
        "             label= f'Training loss: Final accuracy = {model_history.get(\"accuracy\")[-1]:.2f}'\n",
        "             )\n",
        "    plt.plot(x,\n",
        "             model_history.get('val_loss'),\n",
        "             color='green',\n",
        "             marker='o',\n",
        "             linewidth=2,\n",
        "             markersize=9,\n",
        "             label= f'Training loss: Final accuracy = {model_history.get(\"val_accuracy\")[-1]:.2f}'\n",
        "            )\n",
        "    \n",
        "    plt.title(f'Training_validation results: {fig_name}', fontdict={\n",
        "        'fontsize': 12,\n",
        "        'fontweight': 2\n",
        "        },\n",
        "        pad=9\n",
        "    )\n",
        "    plt.xlabel(xlabel='Epochs')\n",
        "    plt.ylabel(ylabel='Model Losses')\n",
        "    plt.legend()\n",
        "    plt.savefig('unamed_figure' if fig_name is None else fig_name)"
      ]
    },
    {
      "cell_type": "markdown",
      "metadata": {
        "id": "ZwRPm_H7pxIj"
      },
      "source": [
        "# Model architecture"
      ]
    },
    {
      "cell_type": "code",
      "execution_count": null,
      "metadata": {
        "id": "lgQey1e2pxIj"
      },
      "outputs": [],
      "source": [
        "from keras.models import Sequential\n",
        "from keras import regularizers\n",
        "from keras.layers import Flatten\n",
        "from keras.layers import (\n",
        "    Dense,\n",
        "    LSTM,\n",
        ")\n",
        "def create_lstm(layer_number=5,\n",
        "               lstm_cells_per_layer=20,\n",
        "               output_shape=3,\n",
        "               dropout=0):\n",
        "  \n",
        "  model = Sequential()\n",
        "  model.add(tf.keras.layers.RNN(tfa.rnn.PeepholeLSTMCell(lstm_cells_per_layer), return_sequences=True,input_shape=(31,3)))\n",
        "  for layer_n in range(layer_number):\n",
        "    if layer_n == 0:\n",
        "      model.add(LSTM(units=lstm_cells_per_layer,return_sequences=True)) \n",
        "    # elif layer_n == layer_number - 1:\n",
        "    #   model.add(LSTM(units=lstm_cells_per_layer))\n",
        "    # elif layer_n==2:\n",
        "    #   model.add(tf.keras.layers.RNN(tfa.rnn.PeepholeLSTMCell(lstm_cells_per_layer), return_sequences=True))\n",
        "    else:\n",
        "      model.add(LSTM(units=lstm_cells_per_layer,\n",
        "                    return_sequences= True,\n",
        "                    #kernel_regularizer= regularizers.L2(l2=0.003),\n",
        "                    #bias_regularizer= regularizers.L2(l2=0.003),\n",
        "                    recurrent_dropout=dropout,\n",
        "                    dropout=dropout))\n",
        "  model.add(Flatten())\n",
        "  model.add(Dense(units=40))\n",
        "  model.add(Dense(units=10))\n",
        "  model.add(Dense(units=output_shape,activation='softmax'))\n",
        "  return model"
      ]
    },
    {
      "cell_type": "markdown",
      "metadata": {
        "id": "xNX7JT3apxIj"
      },
      "source": [
        "# Train function"
      ]
    },
    {
      "cell_type": "code",
      "execution_count": null,
      "metadata": {
        "id": "wa2aUOyXpxIj"
      },
      "outputs": [],
      "source": [
        "\n",
        "def train(model,\n",
        "          train_dataset,\n",
        "          validation_dataset,\n",
        "          epochs = 20,\n",
        "          batch_size = 31,\n",
        "          save_after_train = False\n",
        "          ):\n",
        "    \n",
        "    X_train,Y_train = train_dataset\n",
        "    X_validation,y_validation = validation_dataset\n",
        "\n",
        "    history = model.fit(\n",
        "    x= X_train,\n",
        "    y= Y_train,\n",
        "    batch_size= batch_size,\n",
        "    epochs= epochs,\n",
        "    validation_data= (X_validation, y_validation)\n",
        "    )\n",
        "\n",
        "    if save_after_train:\n",
        "        model.save('my_model_pt2',save_format='h5')\n",
        "\n",
        "    return history,model"
      ]
    },
    {
      "cell_type": "markdown",
      "metadata": {
        "id": "3OWSb66hpxIk"
      },
      "source": [
        "\n",
        "# Train script"
      ]
    },
    {
      "cell_type": "code",
      "execution_count": null,
      "metadata": {
        "colab": {
          "base_uri": "https://localhost:8080/",
          "height": 1000
        },
        "id": "9e-KvMUTpxIk",
        "outputId": "5227a98f-a2f9-4f04-c8fe-a763a466841e"
      },
      "outputs": [
        {
          "output_type": "stream",
          "name": "stdout",
          "text": [
            "564\n"
          ]
        },
        {
          "output_type": "stream",
          "name": "stderr",
          "text": [
            "/usr/local/lib/python3.10/dist-packages/keras/initializers/initializers.py:120: UserWarning: The initializer GlorotUniform is unseeded and being called multiple times, which will return identical values each time (even if the initializer is unseeded). Please update your code to provide a seed to the initializer, or avoid using the same initalizer instance more than once.\n",
            "  warnings.warn(\n"
          ]
        },
        {
          "output_type": "stream",
          "name": "stdout",
          "text": [
            "Model: \"sequential\"\n",
            "_________________________________________________________________\n",
            " Layer (type)                Output Shape              Param #   \n",
            "=================================================================\n",
            " rnn (RNN)                   (None, 31, 20)            1980      \n",
            "                                                                 \n",
            " lstm (LSTM)                 (None, 31, 20)            3280      \n",
            "                                                                 \n",
            " lstm_1 (LSTM)               (None, 31, 20)            3280      \n",
            "                                                                 \n",
            " lstm_2 (LSTM)               (None, 31, 20)            3280      \n",
            "                                                                 \n",
            " lstm_3 (LSTM)               (None, 31, 20)            3280      \n",
            "                                                                 \n",
            " lstm_4 (LSTM)               (None, 31, 20)            3280      \n",
            "                                                                 \n",
            " flatten (Flatten)           (None, 620)               0         \n",
            "                                                                 \n",
            " dense (Dense)               (None, 10)                6210      \n",
            "                                                                 \n",
            " dense_1 (Dense)             (None, 3)                 33        \n",
            "                                                                 \n",
            "=================================================================\n",
            "Total params: 24,623\n",
            "Trainable params: 24,623\n",
            "Non-trainable params: 0\n",
            "_________________________________________________________________\n",
            "Epoch 1/40\n",
            "19/19 [==============================] - 16s 209ms/step - loss: 0.9453 - accuracy: 0.5541 - val_loss: 1.1886 - val_accuracy: 0.4608\n",
            "Epoch 2/40\n",
            "19/19 [==============================] - 2s 92ms/step - loss: 0.8010 - accuracy: 0.5974 - val_loss: 0.8740 - val_accuracy: 0.5490\n",
            "Epoch 3/40\n",
            "19/19 [==============================] - 2s 91ms/step - loss: 0.7356 - accuracy: 0.6450 - val_loss: 0.7566 - val_accuracy: 0.6471\n",
            "Epoch 4/40\n",
            "19/19 [==============================] - 2s 122ms/step - loss: 0.6653 - accuracy: 0.7121 - val_loss: 0.8114 - val_accuracy: 0.6471\n",
            "Epoch 5/40\n",
            "19/19 [==============================] - 2s 131ms/step - loss: 0.6423 - accuracy: 0.7208 - val_loss: 0.8303 - val_accuracy: 0.6471\n",
            "Epoch 6/40\n",
            "19/19 [==============================] - 2s 93ms/step - loss: 0.6519 - accuracy: 0.7229 - val_loss: 0.7749 - val_accuracy: 0.6471\n",
            "Epoch 7/40\n",
            "19/19 [==============================] - 2s 91ms/step - loss: 0.6277 - accuracy: 0.7381 - val_loss: 0.7688 - val_accuracy: 0.6471\n",
            "Epoch 8/40\n",
            "19/19 [==============================] - 2s 87ms/step - loss: 0.6216 - accuracy: 0.7446 - val_loss: 0.8698 - val_accuracy: 0.6471\n",
            "Epoch 9/40\n",
            "19/19 [==============================] - 2s 91ms/step - loss: 0.6123 - accuracy: 0.7511 - val_loss: 0.7623 - val_accuracy: 0.6471\n",
            "Epoch 10/40\n",
            "19/19 [==============================] - 2s 87ms/step - loss: 0.6040 - accuracy: 0.7446 - val_loss: 0.7763 - val_accuracy: 0.6471\n",
            "Epoch 11/40\n",
            "19/19 [==============================] - 2s 103ms/step - loss: 0.6105 - accuracy: 0.7468 - val_loss: 0.8655 - val_accuracy: 0.6471\n",
            "Epoch 12/40\n",
            "19/19 [==============================] - 3s 134ms/step - loss: 0.5875 - accuracy: 0.7489 - val_loss: 0.8048 - val_accuracy: 0.6471\n",
            "Epoch 13/40\n",
            "19/19 [==============================] - 2s 114ms/step - loss: 0.5781 - accuracy: 0.7576 - val_loss: 0.8195 - val_accuracy: 0.6373\n",
            "Epoch 14/40\n",
            "19/19 [==============================] - 2s 90ms/step - loss: 0.5874 - accuracy: 0.7532 - val_loss: 0.8012 - val_accuracy: 0.6471\n",
            "Epoch 15/40\n",
            "19/19 [==============================] - 2s 93ms/step - loss: 0.5728 - accuracy: 0.7727 - val_loss: 0.8278 - val_accuracy: 0.6275\n",
            "Epoch 16/40\n",
            "19/19 [==============================] - 2s 91ms/step - loss: 0.5673 - accuracy: 0.7554 - val_loss: 0.8704 - val_accuracy: 0.6373\n",
            "Epoch 17/40\n",
            "19/19 [==============================] - 2s 92ms/step - loss: 0.5532 - accuracy: 0.7684 - val_loss: 0.8278 - val_accuracy: 0.6471\n",
            "Epoch 18/40\n",
            "19/19 [==============================] - 2s 90ms/step - loss: 0.5472 - accuracy: 0.7641 - val_loss: 0.9038 - val_accuracy: 0.6176\n",
            "Epoch 19/40\n",
            "19/19 [==============================] - 2s 121ms/step - loss: 0.5589 - accuracy: 0.7597 - val_loss: 0.8786 - val_accuracy: 0.6275\n",
            "Epoch 20/40\n",
            "19/19 [==============================] - 3s 135ms/step - loss: 0.5332 - accuracy: 0.7662 - val_loss: 0.8750 - val_accuracy: 0.6275\n",
            "Epoch 21/40\n",
            "19/19 [==============================] - 2s 91ms/step - loss: 0.5292 - accuracy: 0.7706 - val_loss: 0.9419 - val_accuracy: 0.6275\n",
            "Epoch 22/40\n",
            "19/19 [==============================] - 2s 92ms/step - loss: 0.5541 - accuracy: 0.7706 - val_loss: 0.8224 - val_accuracy: 0.6373\n",
            "Epoch 23/40\n",
            "19/19 [==============================] - 2s 92ms/step - loss: 0.5466 - accuracy: 0.7684 - val_loss: 0.8613 - val_accuracy: 0.6373\n",
            "Epoch 24/40\n",
            "19/19 [==============================] - 2s 93ms/step - loss: 0.5189 - accuracy: 0.7749 - val_loss: 0.8961 - val_accuracy: 0.6275\n",
            "Epoch 25/40\n",
            "19/19 [==============================] - 2s 92ms/step - loss: 0.5212 - accuracy: 0.7576 - val_loss: 0.9262 - val_accuracy: 0.6176\n",
            "Epoch 26/40\n",
            "19/19 [==============================] - 2s 92ms/step - loss: 0.5115 - accuracy: 0.7771 - val_loss: 0.8626 - val_accuracy: 0.6471\n",
            "Epoch 27/40\n",
            "19/19 [==============================] - 3s 133ms/step - loss: 0.5030 - accuracy: 0.7879 - val_loss: 0.9170 - val_accuracy: 0.6275\n",
            "Epoch 28/40\n",
            "19/19 [==============================] - 2s 120ms/step - loss: 0.5292 - accuracy: 0.7684 - val_loss: 1.0487 - val_accuracy: 0.4804\n",
            "Epoch 29/40\n",
            "19/19 [==============================] - 2s 91ms/step - loss: 0.5117 - accuracy: 0.7706 - val_loss: 0.9151 - val_accuracy: 0.6275\n",
            "Epoch 30/40\n",
            "19/19 [==============================] - 2s 94ms/step - loss: 0.5203 - accuracy: 0.7684 - val_loss: 0.9278 - val_accuracy: 0.6176\n",
            "Epoch 31/40\n",
            "19/19 [==============================] - 2s 91ms/step - loss: 0.4946 - accuracy: 0.7922 - val_loss: 0.9254 - val_accuracy: 0.6373\n",
            "Epoch 32/40\n",
            "19/19 [==============================] - 2s 90ms/step - loss: 0.4946 - accuracy: 0.7857 - val_loss: 0.9097 - val_accuracy: 0.6275\n",
            "Epoch 33/40\n",
            "19/19 [==============================] - 2s 90ms/step - loss: 0.5056 - accuracy: 0.7706 - val_loss: 0.9273 - val_accuracy: 0.6275\n",
            "Epoch 34/40\n",
            "19/19 [==============================] - 2s 122ms/step - loss: 0.4902 - accuracy: 0.7900 - val_loss: 0.9464 - val_accuracy: 0.6373\n",
            "Epoch 35/40\n",
            "19/19 [==============================] - 2s 130ms/step - loss: 0.4689 - accuracy: 0.8117 - val_loss: 0.9613 - val_accuracy: 0.6275\n",
            "Epoch 36/40\n",
            "19/19 [==============================] - 2s 99ms/step - loss: 0.4871 - accuracy: 0.8009 - val_loss: 0.9706 - val_accuracy: 0.6373\n",
            "Epoch 37/40\n",
            "19/19 [==============================] - 2s 91ms/step - loss: 0.4900 - accuracy: 0.7879 - val_loss: 0.9764 - val_accuracy: 0.5980\n",
            "Epoch 38/40\n",
            "19/19 [==============================] - 2s 91ms/step - loss: 0.4840 - accuracy: 0.8009 - val_loss: 1.0012 - val_accuracy: 0.6275\n",
            "Epoch 39/40\n",
            "19/19 [==============================] - 2s 93ms/step - loss: 0.4880 - accuracy: 0.7879 - val_loss: 0.9625 - val_accuracy: 0.6275\n",
            "Epoch 40/40\n",
            "19/19 [==============================] - 2s 88ms/step - loss: 0.4731 - accuracy: 0.7922 - val_loss: 1.0272 - val_accuracy: 0.6275\n"
          ]
        },
        {
          "output_type": "display_data",
          "data": {
            "text/plain": [
              "<Figure size 1300x1300 with 1 Axes>"
            ],
            "image/png": "[encoded data removed]"
          },
          "metadata": {}
        }
      ],
      "source": [
        "from sklearn.model_selection import train_test_split\n",
        "from keras.optimizers import Adam\n",
        "from keras.losses import SparseCategoricalCrossentropy\n",
        "from keras.metrics import Accuracy\n",
        "\n",
        "# Data import and Preprocessing\n",
        "dataset = build_dataset(source_files=load_data_files())\n",
        "print(len(dataset[0]))\n",
        "X_train, X_validation, Y_train, Y_validation = train_test_split(dataset[0], dataset[1], test_size=0.18, random_state=42)\n",
        "\n",
        "X_train, _ = standard_scaler(dataset=X_train)\n",
        "X_validation, _ = standard_scaler(dataset=X_validation)\n",
        "\n",
        "# Create model\n",
        "model = create_lstm()\n",
        "model.summary()\n",
        "# Hyperparameters\n",
        "learning_rate = 0.003\n",
        "batch_size = 25\n",
        "epochs = 40\n",
        "optimizer = Adam()\n",
        "loss = SparseCategoricalCrossentropy()\n",
        "\n",
        "# Compile the model\n",
        "model.compile(\n",
        "    optimizer=optimizer,\n",
        "    loss=loss,\n",
        "    metrics=['accuracy']\n",
        ")\n",
        "\n",
        "# Model training\n",
        "hist, model = train(\n",
        "    model=model,\n",
        "    train_dataset=(X_train, Y_train),\n",
        "    validation_dataset=(X_validation, Y_validation),\n",
        "    epochs=epochs,\n",
        "    batch_size=batch_size,\n",
        "    save_after_train=True  # save the trained model to H5 file\n",
        ")\n",
        "\n",
        "# show results\n",
        "plot_training_results(model_history=hist.history,\n",
        "                      epochs=epochs, fig_name=\"4layers_16cells_dropout=0\")\n"
      ]
    },
    {
      "cell_type": "markdown",
      "metadata": {
        "id": "sHMCtB3EpxIl"
      },
      "source": [
        "# Test script"
      ]
    },
    {
      "cell_type": "code",
      "source": [
        "pip install tensorflow-addons"
      ],
      "metadata": {
        "id": "xB1-hI-2rk03"
      },
      "execution_count": null,
      "outputs": []
    },
    {
      "cell_type": "code",
      "source": [
        "import glob\n",
        "import pandas as pd\n",
        "import numpy as np\n",
        "import matplotlib.pyplot as plt\n",
        "import tensorflow_addons as tfa\n",
        "from sklearn.preprocessing import (\n",
        "    StandardScaler,\n",
        ")\n",
        "from keras.models import Sequential\n",
        "from keras import regularizers\n",
        "from keras.layers import (\n",
        "    Dense,\n",
        "    LSTM,\n",
        ")\n",
        "from sklearn.model_selection import train_test_split\n",
        "from keras.optimizers import Adam\n",
        "from keras.losses import SparseCategoricalCrossentropy\n",
        "from keras.metrics import Accuracy\n"
      ],
      "metadata": {
        "id": "tbmE873qxG9s"
      },
      "execution_count": null,
      "outputs": []
    },
    {
      "cell_type": "code",
      "source": [
        "from google.colab import drive\n",
        "drive.mount('/content/drive')\n",
        "def build_dataset(source_files):\n",
        "    X = np.empty(shape=(1,31,3))\n",
        "    Y = np.empty(shape=(1,1))\n",
        "    for index,file in enumerate(source_files):\n",
        "        df = pd.read_csv(file,header=None,names=['Id','Heart_rate','Respiratory_rate','Oxygen_saturation','Baby_status'])\n",
        "        data = csv_file_processing(df)\n",
        "        if data:\n",
        "            x = data[0]\n",
        "            y = data[1]\n",
        "            if x.shape[2] == 3:\n",
        "                X = np.vstack((X,x))\n",
        "                Y = np.vstack((Y,y[0,-1])) # the target value if the 31th row\n",
        "    return (np.delete(X, 0,axis=0),np.delete(Y, 0,axis=0))\n",
        "\n",
        "def load_data_files(data_dir='/content/drive/MyDrive/training-validation'):\n",
        "    source_files = glob.glob(pathname=data_dir + '/**/*.csv')\n",
        "    return source_files\n",
        "\n",
        "def csv_file_processing(df):\n",
        "    df = transform_dataset(dataset=df)\n",
        "    X = df[['Heart_rate','Respiratory_rate','Oxygen_saturation']].to_numpy()\n",
        "    y = df['Baby_status'].to_numpy()\n",
        "    if X.shape[0] == 31:\n",
        "        return (X.reshape(1,31,-1),y.reshape(1,-1)) \n",
        "\n",
        "def transform_dataset(dataset):\n",
        "    # remove the first col in place\n",
        "    dataset = dataset.drop('Id', inplace=False, axis=1)\n",
        "    # remove samples without target value\n",
        "    dataset = dataset[(dataset['Baby_status'] == 0) | (dataset['Baby_status'] == 1) | (dataset['Baby_status'] == 2)]\n",
        "    # data clean\n",
        "    dataset = dataset[dataset['Oxygen_saturation'] != '--1']\n",
        "    return dataset\n",
        "\n",
        "def standard_scaler(dataset):\n",
        "    scaler = StandardScaler()\n",
        "    dataset = dataset.reshape(-1,3)\n",
        "    scaled_dataset = scaler.fit_transform(dataset)\n",
        "    return (scaled_dataset.reshape(-1,31,3),scaler)"
      ],
      "metadata": {
        "colab": {
          "base_uri": "https://localhost:8080/"
        },
        "id": "waz-7TR0cFHD",
        "outputId": "0d75e011-57e9-424a-f216-a7f612987b4c"
      },
      "execution_count": null,
      "outputs": [
        {
          "output_type": "stream",
          "name": "stdout",
          "text": [
            "Drive already mounted at /content/drive; to attempt to forcibly remount, call drive.mount(\"/content/drive\", force_remount=True).\n"
          ]
        }
      ]
    },
    {
      "cell_type": "code",
      "execution_count": null,
      "metadata": {
        "colab": {
          "base_uri": "https://localhost:8080/"
        },
        "id": "lwg5dHJ5pxIl",
        "outputId": "702de391-48f1-4c14-d14a-9c9de6fa2db9"
      },
      "outputs": [
        {
          "output_type": "stream",
          "name": "stderr",
          "text": [
            "/usr/local/lib/python3.10/dist-packages/keras/initializers/initializers.py:120: UserWarning: The initializer GlorotUniform is unseeded and being called multiple times, which will return identical values each time (even if the initializer is unseeded). Please update your code to provide a seed to the initializer, or avoid using the same initalizer instance more than once.\n",
            "  warnings.warn(\n"
          ]
        },
        {
          "output_type": "stream",
          "name": "stdout",
          "text": [
            "4/4 - 3s - loss: 0.9619 - accuracy: 0.6373 - 3s/epoch - 809ms/step\n",
            "Restored model, accuracy: 63.73% on test dataset\n"
          ]
        }
      ],
      "source": [
        "from keras.models import load_model\n",
        "\n",
        "_LOAD_PATH = 'my_model_pt2'\n",
        "TEST_DATASET_PATH = '/content/drive/MyDrive/testing' # To be changed I used this path for testing purposes\n",
        "\n",
        "def evaluate_model(test_dataset,saved_model_path):\n",
        "\n",
        "    X_test, Y_test = test_dataset\n",
        "\n",
        "    model = load_model(saved_model_path)\n",
        "    \n",
        "    \n",
        "    loss, acc = model.evaluate(X_test, Y_test, verbose=2)\n",
        "    print(\"Restored model, accuracy: {:5.2f}% on test dataset\".format(100 * acc))\n",
        "\n",
        "\n",
        "X_test,Y_test = build_dataset(source_files=load_data_files(data_dir=TEST_DATASET_PATH))\n",
        "X_test,_ = standard_scaler(dataset=X_test)\n",
        "evaluate_model(test_dataset=(X_test,Y_test),saved_model_path=_LOAD_PATH)"
      ]
    },
    {
      "cell_type": "code",
      "source": [],
      "metadata": {
        "id": "2MVP3KZOb8Wo"
      },
      "execution_count": null,
      "outputs": []
    }
  ],
  "metadata": {
    "kernelspec": {
      "display_name": "Python 3",
      "language": "python",
      "name": "python3"
    },
    "language_info": {
      "codemirror_mode": {
        "name": "ipython",
        "version": 3
      },
      "file_extension": ".py",
      "mimetype": "text/x-python",
      "name": "python",
      "nbconvert_exporter": "python",
      "pygments_lexer": "ipython3",
      "version": "3.10.8"
    },
    "orig_nbformat": 4,
    "colab": {
      "provenance": []
    },
    "gpuClass": "standard"
  },
  "nbformat": 4,
  "nbformat_minor": 0
}